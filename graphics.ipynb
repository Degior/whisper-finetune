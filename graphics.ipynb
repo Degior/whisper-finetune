{
 "metadata": {
  "kernelspec": {
   "language": "python",
   "display_name": "Python 3",
   "name": "python3"
  },
  "language_info": {
   "name": "python",
   "version": "3.11.11",
   "mimetype": "text/x-python",
   "codemirror_mode": {
    "name": "ipython",
    "version": 3
   },
   "pygments_lexer": "ipython3",
   "nbconvert_exporter": "python",
   "file_extension": ".py"
  },
  "kaggle": {
   "accelerator": "gpu",
   "dataSources": [],
   "dockerImageVersionId": 31011,
   "isInternetEnabled": true,
   "language": "python",
   "sourceType": "notebook",
   "isGpuEnabled": true
  }
 },
 "nbformat_minor": 4,
 "nbformat": 4,
 "cells": [
  {
   "cell_type": "code",
   "source": "from huggingface_hub import notebook_login\nnotebook_login()",
   "metadata": {
    "trusted": true,
    "execution": {
     "iopub.status.busy": "2025-04-27T23:02:13.451371Z",
     "iopub.execute_input": "2025-04-27T23:02:13.451554Z",
     "iopub.status.idle": "2025-04-27T23:02:13.900904Z",
     "shell.execute_reply.started": "2025-04-27T23:02:13.451539Z",
     "shell.execute_reply": "2025-04-27T23:02:13.900075Z"
    }
   },
   "outputs": [],
   "execution_count": null
  },
  {
   "cell_type": "code",
   "source": "pip install evaluate jiwer",
   "metadata": {
    "trusted": true,
    "execution": {
     "iopub.status.busy": "2025-04-27T23:02:22.296038Z",
     "iopub.execute_input": "2025-04-27T23:02:22.296288Z",
     "iopub.status.idle": "2025-04-27T23:02:28.342909Z",
     "shell.execute_reply.started": "2025-04-27T23:02:22.296268Z",
     "shell.execute_reply": "2025-04-27T23:02:28.342142Z"
    }
   },
   "outputs": [],
   "execution_count": null
  },
  {
   "cell_type": "code",
   "source": "from datasets import load_dataset, Audio\nfrom transformers import WhisperProcessor, WhisperForConditionalGeneration\nimport torch\nimport evaluate\nimport time\nimport pandas as pd",
   "metadata": {
    "_uuid": "8f2839f25d086af736a60e9eeb907d3b93b6e0e5",
    "_cell_guid": "b1076dfc-b9ad-4769-8c92-a6c4dae69d19",
    "trusted": true,
    "execution": {
     "iopub.status.busy": "2025-04-27T23:02:28.344365Z",
     "iopub.execute_input": "2025-04-27T23:02:28.344584Z",
     "iopub.status.idle": "2025-04-27T23:02:51.370020Z",
     "shell.execute_reply.started": "2025-04-27T23:02:28.344565Z",
     "shell.execute_reply": "2025-04-27T23:02:51.369468Z"
    }
   },
   "outputs": [],
   "execution_count": null
  },
  {
   "cell_type": "code",
   "source": "common_voice = load_dataset(\"mozilla-foundation/common_voice_14_0\", \"ru\", split=\"test\", trust_remote_code=True)\ncommon_voice = common_voice.cast_column(\"audio\", Audio(sampling_rate=16000))\nsamples = common_voice.select(range(100))",
   "metadata": {
    "trusted": true,
    "execution": {
     "iopub.status.busy": "2025-04-27T23:18:56.605690Z",
     "iopub.execute_input": "2025-04-27T23:18:56.606413Z",
     "iopub.status.idle": "2025-04-27T23:19:53.562002Z",
     "shell.execute_reply.started": "2025-04-27T23:18:56.606392Z",
     "shell.execute_reply": "2025-04-27T23:19:53.561476Z"
    }
   },
   "outputs": [],
   "execution_count": null
  },
  {
   "cell_type": "code",
   "source": "models_info = {\n    \"openai/whisper-tiny\": 39,\n    \"openai/whisper-base\": 74,\n    \"openai/whisper-small\": 244,\n    \"openai/whisper-medium\": 769,\n}",
   "metadata": {
    "trusted": true,
    "execution": {
     "iopub.status.busy": "2025-04-27T23:37:36.447594Z",
     "iopub.execute_input": "2025-04-27T23:37:36.448311Z",
     "iopub.status.idle": "2025-04-27T23:37:36.451649Z",
     "shell.execute_reply.started": "2025-04-27T23:37:36.448286Z",
     "shell.execute_reply": "2025-04-27T23:37:36.450987Z"
    }
   },
   "outputs": [],
   "execution_count": null
  },
  {
   "cell_type": "code",
   "source": "wer_metric = evaluate.load(\"wer\")\ndevice = \"cuda\" if torch.cuda.is_available() else \"cpu\"\nresults = []",
   "metadata": {
    "trusted": true,
    "execution": {
     "iopub.status.busy": "2025-04-27T23:37:36.772203Z",
     "iopub.execute_input": "2025-04-27T23:37:36.772798Z",
     "iopub.status.idle": "2025-04-27T23:37:37.858107Z",
     "shell.execute_reply.started": "2025-04-27T23:37:36.772758Z",
     "shell.execute_reply": "2025-04-27T23:37:37.857518Z"
    }
   },
   "outputs": [],
   "execution_count": null
  },
  {
   "cell_type": "code",
   "source": "for model_name, num_params_million in models_info.items():\n    print(f\"\\n Evaluating {model_name}...\")\n        \n    model = WhisperForConditionalGeneration.from_pretrained(model_name).to(device)\n    model.eval()\n\n    predictions = []\n    references = []\n\n    start_time = time.time()\n\n    for example in samples:\n        inputs = processor(\n            example[\"audio\"][\"array\"],\n            sampling_rate=16000,\n            return_tensors=\"pt\"\n        ).input_features.to(device)\n\n        with torch.no_grad():\n            generated_ids = model.generate(inputs)\n\n        transcription = processor.batch_decode(generated_ids, skip_special_tokens=True)[0].lower()\n        reference = example[\"sentence\"].lower()\n\n        predictions.append(transcription)\n        references.append(reference)\n\n    end_time = time.time()\n    wer = wer_metric.compute(predictions=predictions, references=references)\n    elapsed = end_time - start_time\n    avg_time = elapsed / len(samples)\n\n    results.append({\n        \"Model\": model_name.split(\"/\")[-1],\n        \"Params (M)\": num_params_million,\n        \"WER\": round(wer, 4),\n        \"Total Time (s)\": round(elapsed, 2),\n        \"Time per Sample (s)\": round(avg_time, 3)\n    })",
   "metadata": {
    "trusted": true,
    "execution": {
     "iopub.status.busy": "2025-04-27T23:37:38.875837Z",
     "iopub.execute_input": "2025-04-27T23:37:38.876322Z",
     "iopub.status.idle": "2025-04-27T23:40:16.790573Z",
     "shell.execute_reply.started": "2025-04-27T23:37:38.876298Z",
     "shell.execute_reply": "2025-04-27T23:40:16.789843Z"
    }
   },
   "outputs": [],
   "execution_count": null
  },
  {
   "cell_type": "code",
   "source": "df = pd.DataFrame(results)\ndf_sorted = df.sort_values(\"WER\")",
   "metadata": {
    "trusted": true,
    "execution": {
     "iopub.status.busy": "2025-04-27T23:41:09.101124Z",
     "iopub.execute_input": "2025-04-27T23:41:09.101664Z",
     "iopub.status.idle": "2025-04-27T23:41:09.106764Z",
     "shell.execute_reply.started": "2025-04-27T23:41:09.101638Z",
     "shell.execute_reply": "2025-04-27T23:41:09.105996Z"
    }
   },
   "outputs": [],
   "execution_count": null
  },
  {
   "cell_type": "code",
   "source": "print(df_sorted)",
   "metadata": {
    "trusted": true,
    "execution": {
     "iopub.status.busy": "2025-04-27T23:41:10.127058Z",
     "iopub.execute_input": "2025-04-27T23:41:10.127349Z",
     "iopub.status.idle": "2025-04-27T23:41:10.133368Z",
     "shell.execute_reply.started": "2025-04-27T23:41:10.127330Z",
     "shell.execute_reply": "2025-04-27T23:41:10.132759Z"
    }
   },
   "outputs": [],
   "execution_count": null
  },
  {
   "cell_type": "code",
   "source": "df_sorted.plot(\n    kind=\"barh\",\n    x=\"Model\",\n    y=[\"WER\"],\n    title=\"Whisper Model Comparison (WER & Speed)\",\n    figsize=(10,5),\n    alpha=0.8\n)",
   "metadata": {
    "trusted": true,
    "execution": {
     "iopub.status.busy": "2025-04-27T23:41:13.309905Z",
     "iopub.execute_input": "2025-04-27T23:41:13.310194Z",
     "iopub.status.idle": "2025-04-27T23:41:13.489929Z",
     "shell.execute_reply.started": "2025-04-27T23:41:13.310174Z",
     "shell.execute_reply": "2025-04-27T23:41:13.489305Z"
    }
   },
   "outputs": [],
   "execution_count": null
  },
  {
   "cell_type": "code",
   "source": "df.to_csv('/kaggle/working/test.csv', index=False)",
   "metadata": {
    "trusted": true,
    "execution": {
     "iopub.status.busy": "2025-04-27T23:43:20.731186Z",
     "iopub.execute_input": "2025-04-27T23:43:20.731695Z",
     "iopub.status.idle": "2025-04-27T23:43:20.736549Z",
     "shell.execute_reply.started": "2025-04-27T23:43:20.731671Z",
     "shell.execute_reply": "2025-04-27T23:43:20.735879Z"
    }
   },
   "outputs": [],
   "execution_count": null
  }
 ]
}
